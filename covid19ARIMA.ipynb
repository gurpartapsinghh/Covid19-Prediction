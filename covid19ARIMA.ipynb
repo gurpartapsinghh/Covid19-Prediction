{
  "nbformat": 4,
  "nbformat_minor": 0,
  "metadata": {
    "colab": {
      "name": "covid19ARIMA.ipynb",
      "provenance": [],
      "collapsed_sections": [],
      "include_colab_link": true
    },
    "kernelspec": {
      "name": "python3",
      "display_name": "Python 3"
    }
  },
  "cells": [
    {
      "cell_type": "markdown",
      "metadata": {
        "id": "view-in-github",
        "colab_type": "text"
      },
      "source": [
        "<a href=\"https://colab.research.google.com/github/gurpartapsinghh/Covid19-Prediction/blob/master/covid19ARIMA.ipynb\" target=\"_parent\"><img src=\"https://colab.research.google.com/assets/colab-badge.svg\" alt=\"Open In Colab\"/></a>"
      ]
    },
    {
      "cell_type": "code",
      "metadata": {
        "id": "TG70gBK1gdmN",
        "colab_type": "code",
        "colab": {
          "base_uri": "https://localhost:8080/",
          "height": 70
        },
        "outputId": "98f3f077-f68a-41a1-f40d-3a09141015e3"
      },
      "source": [
        "import pandas as pd\n",
        "import numpy as np\n",
        "import matplotlib.pyplot as plt\n",
        "from statsmodels.tsa.arima_model import ARIMA\n",
        "import datetime\n",
        "import warnings\n"
      ],
      "execution_count": 1,
      "outputs": [
        {
          "output_type": "stream",
          "text": [
            "/usr/local/lib/python3.6/dist-packages/statsmodels/tools/_testing.py:19: FutureWarning: pandas.util.testing is deprecated. Use the functions in the public API at pandas.testing instead.\n",
            "  import pandas.util.testing as tm\n"
          ],
          "name": "stderr"
        }
      ]
    },
    {
      "cell_type": "code",
      "metadata": {
        "id": "I3OVMrHjgsi_",
        "colab_type": "code",
        "colab": {}
      },
      "source": [
        "confirmed_df = pd.read_csv('https://raw.githubusercontent.com/CSSEGISandData/COVID-19/master/csse_covid_19_data/csse_covid_19_time_series/time_series_covid19_confirmed_global.csv')\n",
        "recovered_df = pd.read_csv('https://raw.githubusercontent.com/CSSEGISandData/COVID-19/master/csse_covid_19_data/csse_covid_19_time_series/time_series_covid19_recovered_global.csv')\n"
      ],
      "execution_count": 2,
      "outputs": []
    },
    {
      "cell_type": "code",
      "metadata": {
        "id": "FKGqKcsouqFT",
        "colab_type": "code",
        "colab": {
          "base_uri": "https://localhost:8080/",
          "height": 244
        },
        "outputId": "8104e139-4e42-4cee-9993-5f0ae5350a6f"
      },
      "source": [
        "confirmed_df.head()"
      ],
      "execution_count": 3,
      "outputs": [
        {
          "output_type": "execute_result",
          "data": {
            "text/html": [
              "<div>\n",
              "<style scoped>\n",
              "    .dataframe tbody tr th:only-of-type {\n",
              "        vertical-align: middle;\n",
              "    }\n",
              "\n",
              "    .dataframe tbody tr th {\n",
              "        vertical-align: top;\n",
              "    }\n",
              "\n",
              "    .dataframe thead th {\n",
              "        text-align: right;\n",
              "    }\n",
              "</style>\n",
              "<table border=\"1\" class=\"dataframe\">\n",
              "  <thead>\n",
              "    <tr style=\"text-align: right;\">\n",
              "      <th></th>\n",
              "      <th>Province/State</th>\n",
              "      <th>Country/Region</th>\n",
              "      <th>Lat</th>\n",
              "      <th>Long</th>\n",
              "      <th>1/22/20</th>\n",
              "      <th>1/23/20</th>\n",
              "      <th>1/24/20</th>\n",
              "      <th>1/25/20</th>\n",
              "      <th>1/26/20</th>\n",
              "      <th>1/27/20</th>\n",
              "      <th>1/28/20</th>\n",
              "      <th>1/29/20</th>\n",
              "      <th>1/30/20</th>\n",
              "      <th>1/31/20</th>\n",
              "      <th>2/1/20</th>\n",
              "      <th>2/2/20</th>\n",
              "      <th>2/3/20</th>\n",
              "      <th>2/4/20</th>\n",
              "      <th>2/5/20</th>\n",
              "      <th>2/6/20</th>\n",
              "      <th>2/7/20</th>\n",
              "      <th>2/8/20</th>\n",
              "      <th>2/9/20</th>\n",
              "      <th>2/10/20</th>\n",
              "      <th>2/11/20</th>\n",
              "      <th>2/12/20</th>\n",
              "      <th>2/13/20</th>\n",
              "      <th>2/14/20</th>\n",
              "      <th>2/15/20</th>\n",
              "      <th>2/16/20</th>\n",
              "      <th>2/17/20</th>\n",
              "      <th>2/18/20</th>\n",
              "      <th>2/19/20</th>\n",
              "      <th>2/20/20</th>\n",
              "      <th>2/21/20</th>\n",
              "      <th>2/22/20</th>\n",
              "      <th>2/23/20</th>\n",
              "      <th>2/24/20</th>\n",
              "      <th>2/25/20</th>\n",
              "      <th>2/26/20</th>\n",
              "      <th>...</th>\n",
              "      <th>6/21/20</th>\n",
              "      <th>6/22/20</th>\n",
              "      <th>6/23/20</th>\n",
              "      <th>6/24/20</th>\n",
              "      <th>6/25/20</th>\n",
              "      <th>6/26/20</th>\n",
              "      <th>6/27/20</th>\n",
              "      <th>6/28/20</th>\n",
              "      <th>6/29/20</th>\n",
              "      <th>6/30/20</th>\n",
              "      <th>7/1/20</th>\n",
              "      <th>7/2/20</th>\n",
              "      <th>7/3/20</th>\n",
              "      <th>7/4/20</th>\n",
              "      <th>7/5/20</th>\n",
              "      <th>7/6/20</th>\n",
              "      <th>7/7/20</th>\n",
              "      <th>7/8/20</th>\n",
              "      <th>7/9/20</th>\n",
              "      <th>7/10/20</th>\n",
              "      <th>7/11/20</th>\n",
              "      <th>7/12/20</th>\n",
              "      <th>7/13/20</th>\n",
              "      <th>7/14/20</th>\n",
              "      <th>7/15/20</th>\n",
              "      <th>7/16/20</th>\n",
              "      <th>7/17/20</th>\n",
              "      <th>7/18/20</th>\n",
              "      <th>7/19/20</th>\n",
              "      <th>7/20/20</th>\n",
              "      <th>7/21/20</th>\n",
              "      <th>7/22/20</th>\n",
              "      <th>7/23/20</th>\n",
              "      <th>7/24/20</th>\n",
              "      <th>7/25/20</th>\n",
              "      <th>7/26/20</th>\n",
              "      <th>7/27/20</th>\n",
              "      <th>7/28/20</th>\n",
              "      <th>7/29/20</th>\n",
              "      <th>7/30/20</th>\n",
              "    </tr>\n",
              "  </thead>\n",
              "  <tbody>\n",
              "    <tr>\n",
              "      <th>0</th>\n",
              "      <td>NaN</td>\n",
              "      <td>Afghanistan</td>\n",
              "      <td>33.93911</td>\n",
              "      <td>67.709953</td>\n",
              "      <td>0</td>\n",
              "      <td>0</td>\n",
              "      <td>0</td>\n",
              "      <td>0</td>\n",
              "      <td>0</td>\n",
              "      <td>0</td>\n",
              "      <td>0</td>\n",
              "      <td>0</td>\n",
              "      <td>0</td>\n",
              "      <td>0</td>\n",
              "      <td>0</td>\n",
              "      <td>0</td>\n",
              "      <td>0</td>\n",
              "      <td>0</td>\n",
              "      <td>0</td>\n",
              "      <td>0</td>\n",
              "      <td>0</td>\n",
              "      <td>0</td>\n",
              "      <td>0</td>\n",
              "      <td>0</td>\n",
              "      <td>0</td>\n",
              "      <td>0</td>\n",
              "      <td>0</td>\n",
              "      <td>0</td>\n",
              "      <td>0</td>\n",
              "      <td>0</td>\n",
              "      <td>0</td>\n",
              "      <td>0</td>\n",
              "      <td>0</td>\n",
              "      <td>0</td>\n",
              "      <td>0</td>\n",
              "      <td>0</td>\n",
              "      <td>0</td>\n",
              "      <td>1</td>\n",
              "      <td>1</td>\n",
              "      <td>1</td>\n",
              "      <td>...</td>\n",
              "      <td>28833</td>\n",
              "      <td>29157</td>\n",
              "      <td>29481</td>\n",
              "      <td>29640</td>\n",
              "      <td>30175</td>\n",
              "      <td>30451</td>\n",
              "      <td>30616</td>\n",
              "      <td>30967</td>\n",
              "      <td>31238</td>\n",
              "      <td>31517</td>\n",
              "      <td>31836</td>\n",
              "      <td>32022</td>\n",
              "      <td>32324</td>\n",
              "      <td>32672</td>\n",
              "      <td>32951</td>\n",
              "      <td>33190</td>\n",
              "      <td>33384</td>\n",
              "      <td>33594</td>\n",
              "      <td>33908</td>\n",
              "      <td>34194</td>\n",
              "      <td>34366</td>\n",
              "      <td>34451</td>\n",
              "      <td>34455</td>\n",
              "      <td>34740</td>\n",
              "      <td>34994</td>\n",
              "      <td>35070</td>\n",
              "      <td>35229</td>\n",
              "      <td>35301</td>\n",
              "      <td>35475</td>\n",
              "      <td>35526</td>\n",
              "      <td>35615</td>\n",
              "      <td>35727</td>\n",
              "      <td>35928</td>\n",
              "      <td>35981</td>\n",
              "      <td>36036</td>\n",
              "      <td>36157</td>\n",
              "      <td>36263</td>\n",
              "      <td>36368</td>\n",
              "      <td>36471</td>\n",
              "      <td>36542</td>\n",
              "    </tr>\n",
              "    <tr>\n",
              "      <th>1</th>\n",
              "      <td>NaN</td>\n",
              "      <td>Albania</td>\n",
              "      <td>41.15330</td>\n",
              "      <td>20.168300</td>\n",
              "      <td>0</td>\n",
              "      <td>0</td>\n",
              "      <td>0</td>\n",
              "      <td>0</td>\n",
              "      <td>0</td>\n",
              "      <td>0</td>\n",
              "      <td>0</td>\n",
              "      <td>0</td>\n",
              "      <td>0</td>\n",
              "      <td>0</td>\n",
              "      <td>0</td>\n",
              "      <td>0</td>\n",
              "      <td>0</td>\n",
              "      <td>0</td>\n",
              "      <td>0</td>\n",
              "      <td>0</td>\n",
              "      <td>0</td>\n",
              "      <td>0</td>\n",
              "      <td>0</td>\n",
              "      <td>0</td>\n",
              "      <td>0</td>\n",
              "      <td>0</td>\n",
              "      <td>0</td>\n",
              "      <td>0</td>\n",
              "      <td>0</td>\n",
              "      <td>0</td>\n",
              "      <td>0</td>\n",
              "      <td>0</td>\n",
              "      <td>0</td>\n",
              "      <td>0</td>\n",
              "      <td>0</td>\n",
              "      <td>0</td>\n",
              "      <td>0</td>\n",
              "      <td>0</td>\n",
              "      <td>0</td>\n",
              "      <td>0</td>\n",
              "      <td>...</td>\n",
              "      <td>1962</td>\n",
              "      <td>1995</td>\n",
              "      <td>2047</td>\n",
              "      <td>2114</td>\n",
              "      <td>2192</td>\n",
              "      <td>2269</td>\n",
              "      <td>2330</td>\n",
              "      <td>2402</td>\n",
              "      <td>2466</td>\n",
              "      <td>2535</td>\n",
              "      <td>2580</td>\n",
              "      <td>2662</td>\n",
              "      <td>2752</td>\n",
              "      <td>2819</td>\n",
              "      <td>2893</td>\n",
              "      <td>2964</td>\n",
              "      <td>3038</td>\n",
              "      <td>3106</td>\n",
              "      <td>3188</td>\n",
              "      <td>3278</td>\n",
              "      <td>3371</td>\n",
              "      <td>3454</td>\n",
              "      <td>3571</td>\n",
              "      <td>3667</td>\n",
              "      <td>3752</td>\n",
              "      <td>3851</td>\n",
              "      <td>3906</td>\n",
              "      <td>4008</td>\n",
              "      <td>4090</td>\n",
              "      <td>4171</td>\n",
              "      <td>4290</td>\n",
              "      <td>4358</td>\n",
              "      <td>4466</td>\n",
              "      <td>4570</td>\n",
              "      <td>4637</td>\n",
              "      <td>4763</td>\n",
              "      <td>4880</td>\n",
              "      <td>4997</td>\n",
              "      <td>5105</td>\n",
              "      <td>5197</td>\n",
              "    </tr>\n",
              "    <tr>\n",
              "      <th>2</th>\n",
              "      <td>NaN</td>\n",
              "      <td>Algeria</td>\n",
              "      <td>28.03390</td>\n",
              "      <td>1.659600</td>\n",
              "      <td>0</td>\n",
              "      <td>0</td>\n",
              "      <td>0</td>\n",
              "      <td>0</td>\n",
              "      <td>0</td>\n",
              "      <td>0</td>\n",
              "      <td>0</td>\n",
              "      <td>0</td>\n",
              "      <td>0</td>\n",
              "      <td>0</td>\n",
              "      <td>0</td>\n",
              "      <td>0</td>\n",
              "      <td>0</td>\n",
              "      <td>0</td>\n",
              "      <td>0</td>\n",
              "      <td>0</td>\n",
              "      <td>0</td>\n",
              "      <td>0</td>\n",
              "      <td>0</td>\n",
              "      <td>0</td>\n",
              "      <td>0</td>\n",
              "      <td>0</td>\n",
              "      <td>0</td>\n",
              "      <td>0</td>\n",
              "      <td>0</td>\n",
              "      <td>0</td>\n",
              "      <td>0</td>\n",
              "      <td>0</td>\n",
              "      <td>0</td>\n",
              "      <td>0</td>\n",
              "      <td>0</td>\n",
              "      <td>0</td>\n",
              "      <td>0</td>\n",
              "      <td>0</td>\n",
              "      <td>1</td>\n",
              "      <td>1</td>\n",
              "      <td>...</td>\n",
              "      <td>11771</td>\n",
              "      <td>11920</td>\n",
              "      <td>12076</td>\n",
              "      <td>12248</td>\n",
              "      <td>12445</td>\n",
              "      <td>12685</td>\n",
              "      <td>12968</td>\n",
              "      <td>13273</td>\n",
              "      <td>13571</td>\n",
              "      <td>13907</td>\n",
              "      <td>14272</td>\n",
              "      <td>14657</td>\n",
              "      <td>15070</td>\n",
              "      <td>15500</td>\n",
              "      <td>15941</td>\n",
              "      <td>16404</td>\n",
              "      <td>16879</td>\n",
              "      <td>17348</td>\n",
              "      <td>17808</td>\n",
              "      <td>18242</td>\n",
              "      <td>18712</td>\n",
              "      <td>19195</td>\n",
              "      <td>19689</td>\n",
              "      <td>20216</td>\n",
              "      <td>20770</td>\n",
              "      <td>21355</td>\n",
              "      <td>21948</td>\n",
              "      <td>22549</td>\n",
              "      <td>23084</td>\n",
              "      <td>23691</td>\n",
              "      <td>24278</td>\n",
              "      <td>24872</td>\n",
              "      <td>25484</td>\n",
              "      <td>26159</td>\n",
              "      <td>26764</td>\n",
              "      <td>27357</td>\n",
              "      <td>27973</td>\n",
              "      <td>28615</td>\n",
              "      <td>29229</td>\n",
              "      <td>29831</td>\n",
              "    </tr>\n",
              "    <tr>\n",
              "      <th>3</th>\n",
              "      <td>NaN</td>\n",
              "      <td>Andorra</td>\n",
              "      <td>42.50630</td>\n",
              "      <td>1.521800</td>\n",
              "      <td>0</td>\n",
              "      <td>0</td>\n",
              "      <td>0</td>\n",
              "      <td>0</td>\n",
              "      <td>0</td>\n",
              "      <td>0</td>\n",
              "      <td>0</td>\n",
              "      <td>0</td>\n",
              "      <td>0</td>\n",
              "      <td>0</td>\n",
              "      <td>0</td>\n",
              "      <td>0</td>\n",
              "      <td>0</td>\n",
              "      <td>0</td>\n",
              "      <td>0</td>\n",
              "      <td>0</td>\n",
              "      <td>0</td>\n",
              "      <td>0</td>\n",
              "      <td>0</td>\n",
              "      <td>0</td>\n",
              "      <td>0</td>\n",
              "      <td>0</td>\n",
              "      <td>0</td>\n",
              "      <td>0</td>\n",
              "      <td>0</td>\n",
              "      <td>0</td>\n",
              "      <td>0</td>\n",
              "      <td>0</td>\n",
              "      <td>0</td>\n",
              "      <td>0</td>\n",
              "      <td>0</td>\n",
              "      <td>0</td>\n",
              "      <td>0</td>\n",
              "      <td>0</td>\n",
              "      <td>0</td>\n",
              "      <td>0</td>\n",
              "      <td>...</td>\n",
              "      <td>855</td>\n",
              "      <td>855</td>\n",
              "      <td>855</td>\n",
              "      <td>855</td>\n",
              "      <td>855</td>\n",
              "      <td>855</td>\n",
              "      <td>855</td>\n",
              "      <td>855</td>\n",
              "      <td>855</td>\n",
              "      <td>855</td>\n",
              "      <td>855</td>\n",
              "      <td>855</td>\n",
              "      <td>855</td>\n",
              "      <td>855</td>\n",
              "      <td>855</td>\n",
              "      <td>855</td>\n",
              "      <td>855</td>\n",
              "      <td>855</td>\n",
              "      <td>855</td>\n",
              "      <td>855</td>\n",
              "      <td>855</td>\n",
              "      <td>855</td>\n",
              "      <td>858</td>\n",
              "      <td>861</td>\n",
              "      <td>862</td>\n",
              "      <td>877</td>\n",
              "      <td>880</td>\n",
              "      <td>880</td>\n",
              "      <td>880</td>\n",
              "      <td>884</td>\n",
              "      <td>884</td>\n",
              "      <td>889</td>\n",
              "      <td>889</td>\n",
              "      <td>897</td>\n",
              "      <td>897</td>\n",
              "      <td>897</td>\n",
              "      <td>907</td>\n",
              "      <td>907</td>\n",
              "      <td>918</td>\n",
              "      <td>922</td>\n",
              "    </tr>\n",
              "    <tr>\n",
              "      <th>4</th>\n",
              "      <td>NaN</td>\n",
              "      <td>Angola</td>\n",
              "      <td>-11.20270</td>\n",
              "      <td>17.873900</td>\n",
              "      <td>0</td>\n",
              "      <td>0</td>\n",
              "      <td>0</td>\n",
              "      <td>0</td>\n",
              "      <td>0</td>\n",
              "      <td>0</td>\n",
              "      <td>0</td>\n",
              "      <td>0</td>\n",
              "      <td>0</td>\n",
              "      <td>0</td>\n",
              "      <td>0</td>\n",
              "      <td>0</td>\n",
              "      <td>0</td>\n",
              "      <td>0</td>\n",
              "      <td>0</td>\n",
              "      <td>0</td>\n",
              "      <td>0</td>\n",
              "      <td>0</td>\n",
              "      <td>0</td>\n",
              "      <td>0</td>\n",
              "      <td>0</td>\n",
              "      <td>0</td>\n",
              "      <td>0</td>\n",
              "      <td>0</td>\n",
              "      <td>0</td>\n",
              "      <td>0</td>\n",
              "      <td>0</td>\n",
              "      <td>0</td>\n",
              "      <td>0</td>\n",
              "      <td>0</td>\n",
              "      <td>0</td>\n",
              "      <td>0</td>\n",
              "      <td>0</td>\n",
              "      <td>0</td>\n",
              "      <td>0</td>\n",
              "      <td>0</td>\n",
              "      <td>...</td>\n",
              "      <td>183</td>\n",
              "      <td>186</td>\n",
              "      <td>189</td>\n",
              "      <td>197</td>\n",
              "      <td>212</td>\n",
              "      <td>212</td>\n",
              "      <td>259</td>\n",
              "      <td>267</td>\n",
              "      <td>276</td>\n",
              "      <td>284</td>\n",
              "      <td>291</td>\n",
              "      <td>315</td>\n",
              "      <td>328</td>\n",
              "      <td>346</td>\n",
              "      <td>346</td>\n",
              "      <td>346</td>\n",
              "      <td>386</td>\n",
              "      <td>386</td>\n",
              "      <td>396</td>\n",
              "      <td>458</td>\n",
              "      <td>462</td>\n",
              "      <td>506</td>\n",
              "      <td>525</td>\n",
              "      <td>541</td>\n",
              "      <td>576</td>\n",
              "      <td>607</td>\n",
              "      <td>638</td>\n",
              "      <td>687</td>\n",
              "      <td>705</td>\n",
              "      <td>749</td>\n",
              "      <td>779</td>\n",
              "      <td>812</td>\n",
              "      <td>851</td>\n",
              "      <td>880</td>\n",
              "      <td>916</td>\n",
              "      <td>932</td>\n",
              "      <td>950</td>\n",
              "      <td>1000</td>\n",
              "      <td>1078</td>\n",
              "      <td>1109</td>\n",
              "    </tr>\n",
              "  </tbody>\n",
              "</table>\n",
              "<p>5 rows × 195 columns</p>\n",
              "</div>"
            ],
            "text/plain": [
              "  Province/State Country/Region       Lat  ...  7/28/20  7/29/20  7/30/20\n",
              "0            NaN    Afghanistan  33.93911  ...    36368    36471    36542\n",
              "1            NaN        Albania  41.15330  ...     4997     5105     5197\n",
              "2            NaN        Algeria  28.03390  ...    28615    29229    29831\n",
              "3            NaN        Andorra  42.50630  ...      907      918      922\n",
              "4            NaN         Angola -11.20270  ...     1000     1078     1109\n",
              "\n",
              "[5 rows x 195 columns]"
            ]
          },
          "metadata": {
            "tags": []
          },
          "execution_count": 3
        }
      ]
    },
    {
      "cell_type": "code",
      "metadata": {
        "id": "2MfmTehKgytN",
        "colab_type": "code",
        "colab": {}
      },
      "source": [
        "dates = list(confirmed_df.columns[4:])\n",
        "dates = list(pd.to_datetime(dates))\n",
        "dates_india = dates[8:]  #from 30th January onwards"
      ],
      "execution_count": 24,
      "outputs": []
    },
    {
      "cell_type": "code",
      "metadata": {
        "id": "CSARfaNSg-gO",
        "colab_type": "code",
        "colab": {
          "base_uri": "https://localhost:8080/",
          "height": 671
        },
        "outputId": "f4e4cc31-c30a-4051-ca6b-59ab96c5fee8"
      },
      "source": [
        "df1 = confirmed_df.groupby('Country/Region').sum().reset_index()\n",
        "df3 = recovered_df.groupby('Country/Region').sum().reset_index()\n",
        "\n",
        "k = df1[df1['Country/Region']=='India'].loc[:,'1/30/20':]\n",
        "india_confirmed = k.values.tolist()[0] \n",
        "\n",
        "k = df3[df3['Country/Region']=='India'].loc[:,'1/30/20':]\n",
        "india_recovered = k.values.tolist()[0] \n",
        "\n",
        "plt.figure(figsize= (15,10))\n",
        "plt.xticks(rotation = 90 ,fontsize = 11)\n",
        "plt.yticks(fontsize = 10)\n",
        "plt.xlabel(\"Dates\",fontsize = 20)\n",
        "plt.ylabel('Total cases',fontsize = 20)\n",
        "plt.title(\"Total Confirmed and Recovered in India\" , fontsize = 20)\n",
        "\n",
        "ax1 = plt.plot_date(y= india_confirmed,x= dates_india,label = 'Confirmed',linestyle ='-',color = 'b')\n",
        "ax2 = plt.plot_date(y= india_recovered,x= dates_india,label = 'Recovered',linestyle ='-',color = 'g')\n",
        "plt.legend();"
      ],
      "execution_count": 5,
      "outputs": [
        {
          "output_type": "display_data",
          "data": {
            "image/png": "[encoded data removed]",
            "text/plain": [
              "<Figure size 1080x720 with 1 Axes>"
            ]
          },
          "metadata": {
            "tags": [],
            "needs_background": "light"
          }
        }
      ]
    },
    {
      "cell_type": "markdown",
      "metadata": {
        "id": "qJX2rp4KhlO5",
        "colab_type": "text"
      },
      "source": [
        "# **Prediction**"
      ]
    },
    {
      "cell_type": "markdown",
      "metadata": {
        "id": "Hqr8o4hvYCz8",
        "colab_type": "text"
      },
      "source": [
        "**Infections**"
      ]
    },
    {
      "cell_type": "code",
      "metadata": {
        "id": "xneNK0UIhCBD",
        "colab_type": "code",
        "colab": {}
      },
      "source": [
        "k = df1[df1['Country/Region']=='India'].loc[:,'1/22/20':]\n",
        "india_confirmed = k.values.tolist()[0] \n",
        "data = pd.DataFrame(columns = ['ds','y'])\n",
        "data['ds'] = dates\n",
        "data['y'] = india_confirmed\n",
        "#print(data['y'])\n"
      ],
      "execution_count": 6,
      "outputs": []
    },
    {
      "cell_type": "code",
      "metadata": {
        "id": "BOiPkr7Bh0vj",
        "colab_type": "code",
        "colab": {
          "base_uri": "https://localhost:8080/",
          "height": 703
        },
        "outputId": "e3a4854d-fce0-4434-812d-95addc550eaa"
      },
      "source": [
        "arima = ARIMA(data['y'], order=(5, 1, 0))\n",
        "arima = arima.fit(trend='c', full_output=True , disp=True)   #disp=true: for convergence info to be printed\n",
        "forecast = arima.forecast(steps= 47)     #no of days....47 takes it to 31 july\n",
        "pred = list(forecast[0])\n",
        "\n",
        "start_date = data['ds'].max()\n",
        "prediction_dates = []\n",
        "for i in range(47):\n",
        "    date = start_date + datetime.timedelta(days=1)\n",
        "    prediction_dates.append(date)\n",
        "    start_date = date\n",
        "plt.figure(figsize= (15,10))\n",
        "plt.xlabel(\"Dates\",fontsize = 20)\n",
        "plt.ylabel('Total cases',fontsize = 20)\n",
        "plt.title(\"Predicted Confirmed Cases till 15-09-2020\" , fontsize = 20)\n",
        "\n",
        "plt.plot_date(y= pred,x= prediction_dates,linestyle ='dashed',color = '#ff9999',label = 'Predicted');\n",
        "plt.plot_date(y=data['y'],x=data['ds'],linestyle = '-',color = 'blue',label = 'Actual');\n",
        "plt.legend();\n"
      ],
      "execution_count": 16,
      "outputs": [
        {
          "output_type": "stream",
          "text": [
            "/usr/local/lib/python3.6/dist-packages/statsmodels/base/model.py:492: HessianInversionWarning: Inverting hessian failed, no bse or cov_params available\n",
            "  'available', HessianInversionWarning)\n",
            "/usr/local/lib/python3.6/dist-packages/statsmodels/base/model.py:512: ConvergenceWarning: Maximum Likelihood optimization failed to converge. Check mle_retvals\n",
            "  \"Check mle_retvals\", ConvergenceWarning)\n"
          ],
          "name": "stderr"
        },
        {
          "output_type": "display_data",
          "data": {
            "image/png": "[encoded data removed]",
            "text/plain": [
              "<Figure size 1080x720 with 1 Axes>"
            ]
          },
          "metadata": {
            "tags": [],
            "needs_background": "light"
          }
        }
      ]
    },
    {
      "cell_type": "code",
      "metadata": {
        "id": "xAyx5fJsSLRd",
        "colab_type": "code",
        "colab": {
          "base_uri": "https://localhost:8080/",
          "height": 34
        },
        "outputId": "e3fce0fa-e446-4331-ca6f-2a868c96bbba"
      },
      "source": [
        "print(prediction_dates[-1],'Predicted Confirmed Cases',pred[-1])"
      ],
      "execution_count": 17,
      "outputs": [
        {
          "output_type": "stream",
          "text": [
            "2020-09-15 00:00:00 Predicted Confirmed Cases 4137580.626241547\n"
          ],
          "name": "stdout"
        }
      ]
    },
    {
      "cell_type": "markdown",
      "metadata": {
        "id": "H0UZbyFWYLdZ",
        "colab_type": "text"
      },
      "source": [
        "**Recovered**\n"
      ]
    },
    {
      "cell_type": "code",
      "metadata": {
        "id": "XaVIveL1SXIC",
        "colab_type": "code",
        "colab": {}
      },
      "source": [
        "k = df3[df3['Country/Region']=='India'].loc[:,'1/22/20':]\n",
        "india_recovered = k.values.tolist()[0] \n",
        "data2 = pd.DataFrame(columns = ['ds','y'])\n",
        "data2['ds'] = dates\n",
        "data2['y'] = india_recovered\n",
        "#print(data2['ds'])"
      ],
      "execution_count": 18,
      "outputs": []
    },
    {
      "cell_type": "code",
      "metadata": {
        "id": "7eFkWKyAIdb9",
        "colab_type": "code",
        "colab": {
          "base_uri": "https://localhost:8080/",
          "height": 636
        },
        "outputId": "c23ac976-6e1c-4ad1-d2e7-0ef0bba00a74"
      },
      "source": [
        "arima = ARIMA(data2['y'], order=(5, 1, 0))\n",
        "arima = arima.fit(trend='c', full_output=True , disp=True)   #disp=true: for convergence info to be printed\n",
        "forecast = arima.forecast(steps= 47)     #no of days..\n",
        "pred_recovered = list(forecast[0])\n",
        "\n",
        "start_date = data2['ds'].max()\n",
        "prediction_dates = []\n",
        "for i in range(47):\n",
        "    date = start_date + datetime.timedelta(days=1)\n",
        "    prediction_dates.append(date)\n",
        "    start_date = date\n",
        "plt.figure(figsize= (15,10))\n",
        "plt.xlabel(\"Dates\",fontsize = 20)\n",
        "plt.ylabel('Total cases',fontsize = 20)\n",
        "plt.title(\"Predicted Recoveries till 15-09-2020\" , fontsize = 20)\n",
        "\n",
        "plt.plot_date(y= pred_recovered,x= prediction_dates,linestyle ='dashed',color = '#ff9999',label = 'Predicted');\n",
        "plt.plot_date(y=data2['y'],x=data2['ds'],linestyle = '-',color = 'blue',label = 'Actual');\n",
        "plt.legend();\n"
      ],
      "execution_count": 19,
      "outputs": [
        {
          "output_type": "display_data",
          "data": {
            "image/png": "[encoded data removed]",
            "text/plain": [
              "<Figure size 1080x720 with 1 Axes>"
            ]
          },
          "metadata": {
            "tags": [],
            "needs_background": "light"
          }
        }
      ]
    },
    {
      "cell_type": "code",
      "metadata": {
        "id": "ujkx_ewAxBtr",
        "colab_type": "code",
        "colab": {
          "base_uri": "https://localhost:8080/",
          "height": 34
        },
        "outputId": "1cb6eef5-8bed-4e52-e9fe-d049a3b465cd"
      },
      "source": [
        "print(prediction_dates[-1],'Predicted Recoveries',pred_recovered[-1])"
      ],
      "execution_count": 11,
      "outputs": [
        {
          "output_type": "stream",
          "text": [
            "2020-09-15 00:00:00 Predicted Recoveries 2622460.8942805897\n"
          ],
          "name": "stdout"
        }
      ]
    },
    {
      "cell_type": "markdown",
      "metadata": {
        "id": "VNtTVLPmJj5d",
        "colab_type": "text"
      },
      "source": [
        "**Prediction of recovery rate in India** "
      ]
    },
    {
      "cell_type": "code",
      "metadata": {
        "id": "rM4tbhdHIrbY",
        "colab_type": "code",
        "colab": {
          "base_uri": "https://localhost:8080/",
          "height": 34
        },
        "outputId": "50b56def-6565-46c1-b6aa-43a676db1a57"
      },
      "source": [
        "print('No. of recoveries till 15th on September would be',pred_recovered[0])"
      ],
      "execution_count": 20,
      "outputs": [
        {
          "output_type": "stream",
          "text": [
            "No. of recoveries till 15th on September would be 1089111.5057090728\n"
          ],
          "name": "stdout"
        }
      ]
    },
    {
      "cell_type": "code",
      "metadata": {
        "id": "pK8wX_37NUso",
        "colab_type": "code",
        "colab": {
          "base_uri": "https://localhost:8080/",
          "height": 34
        },
        "outputId": "59bffdd3-69e9-4bf1-f2cd-c652082b69c6"
      },
      "source": [
        "avg=(pred_recovered[-1]-pred_recovered[0])/47\n",
        "print('Average number of recoveries per day=' ,avg)"
      ],
      "execution_count": 21,
      "outputs": [
        {
          "output_type": "stream",
          "text": [
            "Average number of recoveries per day= 32624.45507598972\n"
          ],
          "name": "stdout"
        }
      ]
    },
    {
      "cell_type": "code",
      "metadata": {
        "id": "gj6MsXV-WEJo",
        "colab_type": "code",
        "colab": {
          "base_uri": "https://localhost:8080/",
          "height": 34
        },
        "outputId": "07795434-7c52-42da-cd38-43c935d24315"
      },
      "source": [
        "recovery_rate1=((pred_recovered[-1]-pred_recovered[0])/(pred[-1]-pred[0]))*100\n",
        "print('Predicted Recovery Rate',recovery_rate1,'%')"
      ],
      "execution_count": 22,
      "outputs": [
        {
          "output_type": "stream",
          "text": [
            "Predicted Recovery Rate 62.553822020656966 %\n"
          ],
          "name": "stdout"
        }
      ]
    },
    {
      "cell_type": "code",
      "metadata": {
        "id": "80QSL1MyXZKC",
        "colab_type": "code",
        "colab": {
          "base_uri": "https://localhost:8080/",
          "height": 34
        },
        "outputId": "b6e3623a-d808-4f0c-d726-efcc83e34ac4"
      },
      "source": [
        "total_population=1210193422                                                    \n",
        "infection_rate=((pred[-1]-pred[0])/total_population)*100\n",
        "print(infection_rate)"
      ],
      "execution_count": 23,
      "outputs": [
        {
          "output_type": "stream",
          "text": [
            "0.20255011133914905\n"
          ],
          "name": "stdout"
        }
      ]
    },
    {
      "cell_type": "code",
      "metadata": {
        "id": "BpE1Tt-OAHua",
        "colab_type": "code",
        "colab": {}
      },
      "source": [
        ""
      ],
      "execution_count": null,
      "outputs": []
    }
  ]
}